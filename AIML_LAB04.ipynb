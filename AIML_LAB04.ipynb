{
  "nbformat": 4,
  "nbformat_minor": 0,
  "metadata": {
    "colab": {
      "provenance": [],
      "authorship_tag": "ABX9TyM5gWTbyryvc+HMY49pvSLe",
      "include_colab_link": true
    },
    "kernelspec": {
      "name": "python3",
      "display_name": "Python 3"
    },
    "language_info": {
      "name": "python"
    }
  },
  "cells": [
    {
      "cell_type": "markdown",
      "metadata": {
        "id": "view-in-github",
        "colab_type": "text"
      },
      "source": [
        "<a href=\"https://colab.research.google.com/github/Anjani2707/AIML_2303A52419/blob/main/AIML_LAB04.ipynb\" target=\"_parent\"><img src=\"https://colab.research.google.com/assets/colab-badge.svg\" alt=\"Open In Colab\"/></a>"
      ]
    },
    {
      "cell_type": "markdown",
      "source": [
        "1 Implement the AI Game Strategy\n",
        "Part 1\n",
        "–(a). Install the Python Libraries required for Game Strategy\n",
        "1. Install the python libraries - collections, random, math, functools,\n",
        "cache = functools.lru cache(10**6)\n",
        "2. Implement a Game Class Constructor using action, is terminal, result, utility functions\n",
        "3. A game is similar to a problem, but it has a terminal test instead of a goal test, and a\n",
        "utility for each terminal state.\n",
        "4. Create a game subclass and implement actions, result, is terminal, and utility.\n",
        "5. You will also need to set the initial attribute to the initial state; this can be done in the\n",
        "constructor.\n",
        "6. Implement a Player Game using the Game Class Constructor."
      ],
      "metadata": {
        "id": "G-f1AdAf3E0x"
      }
    },
    {
      "cell_type": "code",
      "source": [
        "from collections import namedtuple, Counter, defaultdict\n",
        "import random\n",
        "import math\n",
        "import functools\n",
        "cache = functools.lru_cache(10**6)"
      ],
      "metadata": {
        "id": "stIR7Lio3Imw"
      },
      "execution_count": 13,
      "outputs": []
    },
    {
      "cell_type": "code",
      "source": [
        "class Game:\n",
        "\n",
        "    def actions(self, state):\n",
        "        raise NotImplementedError\n",
        "\n",
        "    def result(self, state, move):\n",
        "        raise NotImplementedError\n",
        "\n",
        "    def is_terminal(self, state):\n",
        "        return not self.actions(state)\n",
        "\n",
        "    def utility(self, state, player):\n",
        "        raise NotImplementedError"
      ],
      "metadata": {
        "id": "9FXBdwnG3VOM"
      },
      "execution_count": 14,
      "outputs": []
    },
    {
      "cell_type": "code",
      "source": [
        "def play_game(game, strategies: dict, verbose=False):\n",
        "    state = game.initial\n",
        "    while not game.is_terminal(state):\n",
        "        player = state.to_move\n",
        "        move = strategies[player](game, state)\n",
        "        state = game.result(state, move)\n",
        "        if verbose:\n",
        "            print('Player', player, 'move:', move)\n",
        "            print(state)\n",
        "    return state"
      ],
      "metadata": {
        "id": "XZdQ8zQZ3xXg"
      },
      "execution_count": 15,
      "outputs": []
    },
    {
      "cell_type": "markdown",
      "source": [
        "Part 2 – Implement the Game Strategy Algorithms\n",
        "1. Implement the MiniMax Search Algorithm\n",
        "2. Implement the Alpha-Beta Search Algorithm"
      ],
      "metadata": {
        "id": "Cl5PScRP4cLY"
      }
    },
    {
      "cell_type": "code",
      "source": [
        "def minimax_search(game, state):\n",
        "    player = state.to_move\n",
        "\n",
        "    def max_value(state):\n",
        "        if game.is_terminal(state):\n",
        "            return game.utility(state, player), None\n",
        "        v, move = -infinity, None\n",
        "        for a in game.actions(state):\n",
        "            v2, _ = min_value(game.result(state, a))\n",
        "            if v2 > v:\n",
        "                v, move = v2, a\n",
        "        return v, move\n",
        "\n",
        "    def min_value(state):\n",
        "        if game.is_terminal(state):\n",
        "            return game.utility(state, player), None\n",
        "        v, move = +infinity, None\n",
        "        for a in game.actions(state):\n",
        "            v2, _ = max_value(game.result(state, a))\n",
        "            if v2 < v:\n",
        "                v, move = v2, a\n",
        "        return v, move\n",
        "\n",
        "    return max_value(state)\n",
        "\n",
        "infinity = math.inf"
      ],
      "metadata": {
        "id": "uH21q3fP4qwY"
      },
      "execution_count": 16,
      "outputs": []
    },
    {
      "cell_type": "code",
      "source": [
        "def alphabeta_search(game, state):\n",
        "    player = state.to_move\n",
        "\n",
        "    def max_value(state, alpha, beta):\n",
        "        if game.is_terminal(state):\n",
        "            return game.utility(state, player), None\n",
        "        v, move = -infinity, None\n",
        "        for a in game.actions(state):\n",
        "            v2, _ = min_value(game.result(state, a), alpha, beta)\n",
        "            if v2 > v:\n",
        "                v, move = v2, a\n",
        "                alpha = max(alpha, v)\n",
        "            if v >= beta:\n",
        "                return v, move\n",
        "        return v, move\n",
        "\n",
        "    def min_value(state, alpha, beta):\n",
        "        if game.is_terminal(state):\n",
        "            return game.utility(state, player), None\n",
        "        v, move = +infinity, None\n",
        "        for a in game.actions(state):\n",
        "            v2, _ = max_value(game.result(state, a), alpha, beta)\n",
        "            if v2 < v:\n",
        "                v, move = v2, a\n",
        "                beta = min(beta, v)\n",
        "            if v <= alpha:\n",
        "                return v, move\n",
        "        return v, move\n",
        "\n",
        "    return max_value(state, -infinity, +infinity)"
      ],
      "metadata": {
        "id": "TJ0ZCLni4vv6"
      },
      "execution_count": 17,
      "outputs": []
    },
    {
      "cell_type": "markdown",
      "source": [
        "Part 3 – Implement the Game Strategy using TicTocToe\n",
        "1. Implement TicToCToe game using init , actions, result, is terminal, utility,\n",
        "display constructors.\n",
        "2. Implement a Game Board using defaultdict using init , new, missing , hash ,\n",
        "_repr_\n",
        "3. Implement random player(game,state) and player(search algorithm"
      ],
      "metadata": {
        "id": "2qCzc7IR6Xlt"
      }
    },
    {
      "cell_type": "code",
      "source": [
        "class TicTacToe(Game):\n",
        "\n",
        "    def __init__(self, height=3, width=3, k=3):\n",
        "        self.k = k # k in a row\n",
        "        self.squares = {(x, y) for x in range(width) for y in range(height)}\n",
        "        self.initial = Board(height=height, width=width, to_move='X', utility=0)\n",
        "\n",
        "    def actions(self, board):\n",
        "        return self.squares - set(board)\n",
        "\n",
        "    def result(self, board, square):\n",
        "        player = board.to_move\n",
        "        board = board.new({square: player}, to_move=('O' if player == 'X' else 'X'))\n",
        "        win = k_in_row(board, player, square, self.k)\n",
        "        board.utility = (0 if not win else +1 if player == 'X' else -1)\n",
        "        return board\n",
        "\n",
        "    def utility(self, board, player):\n",
        "        return board.utility if player == 'X' else -board.utility\n",
        "\n",
        "    def is_terminal(self, board):\n",
        "        return board.utility != 0 or len(self.squares) == len(board)\n",
        "\n",
        "    def display(self, board): print(board)\n",
        "\n",
        "\n",
        "def k_in_row(board, player, square, k):\n",
        "    def in_row(x, y, dx, dy): return 0 if board[x, y] != player else 1 + in_row(x + dx, y + dy, dx, dy)\n",
        "    return any(in_row(*square, dx, dy) + in_row(*square, -dx, -dy)-1>=k\n",
        "               for (dx, dy) in ((0, 1), (1, 0), (1, 1), (1, -1)))"
      ],
      "metadata": {
        "id": "eNJE_tx76tCU"
      },
      "execution_count": 18,
      "outputs": []
    },
    {
      "cell_type": "code",
      "source": [
        "class Board(defaultdict):\n",
        "    empty = '.'\n",
        "    off = '#'\n",
        "\n",
        "    def __init__(self, width=8, height=8, to_move=None, **kwds):\n",
        "        self.__dict__.update(width=width, height=height, to_move=to_move, **kwds)\n",
        "\n",
        "    def new(self, changes: dict, **kwds) -> 'Board':\n",
        "        board = Board(width=self.width, height=self.height, **kwds)\n",
        "        board.update(self)\n",
        "        board.update(changes)\n",
        "        return board\n",
        "\n",
        "    def __missing__(self, loc):\n",
        "        x, y = loc\n",
        "        if 0 <= x < self.width and 0 <= y < self.height:\n",
        "            return self.empty\n",
        "        else:\n",
        "            return self.off\n",
        "\n",
        "    def __hash__(self):\n",
        "        return hash(tuple(sorted(self.items()))) + hash(self.to_move)\n",
        "\n",
        "    def __repr__(self):\n",
        "        def row(y): return ' '.join(self[x, y] for x in range(self.width))\n",
        "        return '\\n'.join(map(row, range(self.height))) +  '\\n'"
      ],
      "metadata": {
        "id": "BrsJO2kj63MR"
      },
      "execution_count": 19,
      "outputs": []
    },
    {
      "cell_type": "code",
      "source": [
        "def random_player(game, state): return random.choice(list(game.actions(state)))\n",
        "\n",
        "def player(search_algorithm):\n",
        "    return lambda game, state: search_algorithm(game, state)[1]"
      ],
      "metadata": {
        "id": "wCIGB-AB6-hd"
      },
      "execution_count": 20,
      "outputs": []
    },
    {
      "cell_type": "markdown",
      "source": [
        "Part 4 – Evaluate the AI Game Strategy using TicTocToe\n",
        "1. Implement Game Strategy using play game(TicTacToe(), dict(X=random player,\n",
        "O=player(alphabeta search)), verbose=True).utility\n",
        "2. Implement Game strategy using play game(TicTacToe(), dict(X=player(alphabeta search),\n",
        "O=player(minimax search)), verbose=True).utility\n"
      ],
      "metadata": {
        "id": "4N-KSJa57Bk1"
      }
    },
    {
      "cell_type": "code",
      "source": [
        "play_game(TicTacToe(), dict(X=random_player, O=player(alphabeta_search)), verbose=True).utility"
      ],
      "metadata": {
        "colab": {
          "base_uri": "https://localhost:8080/"
        },
        "id": "MF3_mu3_8Wca",
        "outputId": "cdf47dec-cb1b-46bf-a292-a4611cba37a7"
      },
      "execution_count": 21,
      "outputs": [
        {
          "output_type": "stream",
          "name": "stdout",
          "text": [
            "Player X move: (1, 0)\n",
            ". X .\n",
            ". . .\n",
            ". . .\n",
            "\n",
            "Player O move: (1, 2)\n",
            ". X .\n",
            ". . .\n",
            ". O .\n",
            "\n",
            "Player X move: (2, 0)\n",
            ". X X\n",
            ". . .\n",
            ". O .\n",
            "\n",
            "Player O move: (0, 0)\n",
            "O X X\n",
            ". . .\n",
            ". O .\n",
            "\n",
            "Player X move: (2, 1)\n",
            "O X X\n",
            ". . X\n",
            ". O .\n",
            "\n",
            "Player O move: (2, 2)\n",
            "O X X\n",
            ". . X\n",
            ". O O\n",
            "\n",
            "Player X move: (0, 1)\n",
            "O X X\n",
            "X . X\n",
            ". O O\n",
            "\n",
            "Player O move: (1, 1)\n",
            "O X X\n",
            "X O X\n",
            ". O O\n",
            "\n"
          ]
        },
        {
          "output_type": "execute_result",
          "data": {
            "text/plain": [
              "-1"
            ]
          },
          "metadata": {},
          "execution_count": 21
        }
      ]
    },
    {
      "cell_type": "code",
      "source": [
        "play_game(TicTacToe(), dict(X=player(alphabeta_search), O=player(minimax_search)), verbose=True).utility"
      ],
      "metadata": {
        "colab": {
          "base_uri": "https://localhost:8080/"
        },
        "id": "alAW0JBy8yxv",
        "outputId": "bc94fcf9-3cb7-4892-8704-48f65188c9db"
      },
      "execution_count": 22,
      "outputs": [
        {
          "output_type": "stream",
          "name": "stdout",
          "text": [
            "Player X move: (0, 1)\n",
            ". . .\n",
            "X . .\n",
            ". . .\n",
            "\n",
            "Player O move: (2, 1)\n",
            ". . .\n",
            "X . O\n",
            ". . .\n",
            "\n",
            "Player X move: (1, 2)\n",
            ". . .\n",
            "X . O\n",
            ". X .\n",
            "\n",
            "Player O move: (0, 0)\n",
            "O . .\n",
            "X . O\n",
            ". X .\n",
            "\n",
            "Player X move: (1, 1)\n",
            "O . .\n",
            "X X O\n",
            ". X .\n",
            "\n",
            "Player O move: (1, 0)\n",
            "O O .\n",
            "X X O\n",
            ". X .\n",
            "\n",
            "Player X move: (2, 0)\n",
            "O O X\n",
            "X X O\n",
            ". X .\n",
            "\n",
            "Player O move: (0, 2)\n",
            "O O X\n",
            "X X O\n",
            "O X .\n",
            "\n",
            "Player X move: (2, 2)\n",
            "O O X\n",
            "X X O\n",
            "O X X\n",
            "\n"
          ]
        },
        {
          "output_type": "execute_result",
          "data": {
            "text/plain": [
              "0"
            ]
          },
          "metadata": {},
          "execution_count": 22
        }
      ]
    }
  ]
}